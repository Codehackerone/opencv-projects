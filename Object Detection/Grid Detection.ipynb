{
 "cells": [
  {
   "cell_type": "code",
   "execution_count": 1,
   "id": "physical-detective",
   "metadata": {},
   "outputs": [],
   "source": [
    "import cv2\n",
    "import numpy as np\n",
    "import matplotlib.pyplot as plt\n",
    "%matplotlib inline"
   ]
  },
  {
   "cell_type": "code",
   "execution_count": 2,
   "id": "waiting-musician",
   "metadata": {},
   "outputs": [
    {
     "data": {
      "text/plain": [
       "<matplotlib.image.AxesImage at 0x1304155b0>"
      ]
     },
     "execution_count": 2,
     "metadata": {},
     "output_type": "execute_result"
    },
    {
     "data": {
      "image/png": "[encoded data removed]",
      "text/plain": [
       "<Figure size 432x288 with 1 Axes>"
      ]
     },
     "metadata": {
      "needs_background": "light"
     },
     "output_type": "display_data"
    }
   ],
   "source": [
    "flat_chess=cv2.imread('../DATA/flat_chessboard.png')\n",
    "plt.imshow(flat_chess)"
   ]
  },
  {
   "cell_type": "code",
   "execution_count": 3,
   "id": "twelve-night",
   "metadata": {},
   "outputs": [],
   "source": [
    "found,corners=cv2.findChessboardCorners(flat_chess,(7,7))\n"
   ]
  },
  {
   "cell_type": "code",
   "execution_count": 4,
   "id": "accepting-edgar",
   "metadata": {},
   "outputs": [
    {
     "data": {
      "text/plain": [
       "True"
      ]
     },
     "execution_count": 4,
     "metadata": {},
     "output_type": "execute_result"
    }
   ],
   "source": [
    "found"
   ]
  },
  {
   "cell_type": "code",
   "execution_count": 5,
   "id": "historical-pasta",
   "metadata": {},
   "outputs": [
    {
     "data": {
      "text/plain": [
       "array([[[ 43.500004,  43.500004]],\n",
       "\n",
       "       [[ 87.5     ,  43.5     ]],\n",
       "\n",
       "       [[131.5     ,  43.5     ]],\n",
       "\n",
       "       [[175.5     ,  43.5     ]],\n",
       "\n",
       "       [[219.5     ,  43.5     ]],\n",
       "\n",
       "       [[263.5     ,  43.5     ]],\n",
       "\n",
       "       [[307.5     ,  43.5     ]],\n",
       "\n",
       "       [[ 43.499996,  87.50001 ]],\n",
       "\n",
       "       [[ 87.5     ,  87.5     ]],\n",
       "\n",
       "       [[131.5     ,  87.5     ]],\n",
       "\n",
       "       [[175.5     ,  87.5     ]],\n",
       "\n",
       "       [[219.5     ,  87.5     ]],\n",
       "\n",
       "       [[263.5     ,  87.5     ]],\n",
       "\n",
       "       [[307.5     ,  87.49999 ]],\n",
       "\n",
       "       [[ 43.500004, 131.5     ]],\n",
       "\n",
       "       [[ 87.5     , 131.5     ]],\n",
       "\n",
       "       [[131.5     , 131.5     ]],\n",
       "\n",
       "       [[175.5     , 131.5     ]],\n",
       "\n",
       "       [[219.5     , 131.5     ]],\n",
       "\n",
       "       [[263.5     , 131.5     ]],\n",
       "\n",
       "       [[307.5     , 131.5     ]],\n",
       "\n",
       "       [[ 43.499996, 175.5     ]],\n",
       "\n",
       "       [[ 87.5     , 175.5     ]],\n",
       "\n",
       "       [[131.5     , 175.5     ]],\n",
       "\n",
       "       [[175.5     , 175.5     ]],\n",
       "\n",
       "       [[219.5     , 175.5     ]],\n",
       "\n",
       "       [[263.5     , 175.5     ]],\n",
       "\n",
       "       [[307.5     , 175.5     ]],\n",
       "\n",
       "       [[ 43.500004, 219.5     ]],\n",
       "\n",
       "       [[ 87.5     , 219.5     ]],\n",
       "\n",
       "       [[131.5     , 219.5     ]],\n",
       "\n",
       "       [[175.5     , 219.5     ]],\n",
       "\n",
       "       [[219.5     , 219.5     ]],\n",
       "\n",
       "       [[263.5     , 219.5     ]],\n",
       "\n",
       "       [[307.5     , 219.5     ]],\n",
       "\n",
       "       [[ 43.499996, 263.5     ]],\n",
       "\n",
       "       [[ 87.5     , 263.5     ]],\n",
       "\n",
       "       [[131.5     , 263.5     ]],\n",
       "\n",
       "       [[175.5     , 263.5     ]],\n",
       "\n",
       "       [[219.5     , 263.5     ]],\n",
       "\n",
       "       [[263.5     , 263.5     ]],\n",
       "\n",
       "       [[307.5     , 263.5     ]],\n",
       "\n",
       "       [[ 43.5     , 307.5     ]],\n",
       "\n",
       "       [[ 87.5     , 307.5     ]],\n",
       "\n",
       "       [[131.5     , 307.5     ]],\n",
       "\n",
       "       [[175.5     , 307.5     ]],\n",
       "\n",
       "       [[219.5     , 307.5     ]],\n",
       "\n",
       "       [[263.5     , 307.5     ]],\n",
       "\n",
       "       [[307.5     , 307.5     ]]], dtype=float32)"
      ]
     },
     "execution_count": 5,
     "metadata": {},
     "output_type": "execute_result"
    }
   ],
   "source": [
    "corners"
   ]
  },
  {
   "cell_type": "code",
   "execution_count": 6,
   "id": "anticipated-situation",
   "metadata": {},
   "outputs": [
    {
     "data": {
      "text/plain": [
       "array([[[158, 206, 255],\n",
       "        [158, 206, 255],\n",
       "        [158, 206, 255],\n",
       "        ...,\n",
       "        [ 71, 139, 209],\n",
       "        [ 71, 139, 209],\n",
       "        [ 71, 139, 209]],\n",
       "\n",
       "       [[158, 206, 255],\n",
       "        [158, 206, 255],\n",
       "        [158, 206, 255],\n",
       "        ...,\n",
       "        [ 71, 139, 209],\n",
       "        [ 71, 139, 209],\n",
       "        [ 71, 139, 209]],\n",
       "\n",
       "       [[158, 206, 255],\n",
       "        [158, 206, 255],\n",
       "        [158, 206, 255],\n",
       "        ...,\n",
       "        [ 71, 139, 209],\n",
       "        [ 71, 139, 209],\n",
       "        [ 71, 139, 209]],\n",
       "\n",
       "       ...,\n",
       "\n",
       "       [[ 71, 139, 209],\n",
       "        [ 71, 139, 209],\n",
       "        [ 71, 139, 209],\n",
       "        ...,\n",
       "        [158, 206, 255],\n",
       "        [158, 206, 255],\n",
       "        [158, 206, 255]],\n",
       "\n",
       "       [[ 71, 139, 209],\n",
       "        [ 71, 139, 209],\n",
       "        [ 71, 139, 209],\n",
       "        ...,\n",
       "        [158, 206, 255],\n",
       "        [158, 206, 255],\n",
       "        [158, 206, 255]],\n",
       "\n",
       "       [[ 71, 139, 209],\n",
       "        [ 71, 139, 209],\n",
       "        [ 71, 139, 209],\n",
       "        ...,\n",
       "        [158, 206, 255],\n",
       "        [158, 206, 255],\n",
       "        [158, 206, 255]]], dtype=uint8)"
      ]
     },
     "execution_count": 6,
     "metadata": {},
     "output_type": "execute_result"
    }
   ],
   "source": [
    "cv2.drawChessboardCorners(flat_chess,(7,7),corners,found)"
   ]
  },
  {
   "cell_type": "code",
   "execution_count": 7,
   "id": "collectible-framing",
   "metadata": {},
   "outputs": [
    {
     "data": {
      "text/plain": [
       "<matplotlib.image.AxesImage at 0x1306e7160>"
      ]
     },
     "execution_count": 7,
     "metadata": {},
     "output_type": "execute_result"
    },
    {
     "data": {
      "image/png": "[encoded data removed]",
      "text/plain": [
       "<Figure size 432x288 with 1 Axes>"
      ]
     },
     "metadata": {
      "needs_background": "light"
     },
     "output_type": "display_data"
    }
   ],
   "source": [
    "plt.imshow(flat_chess)"
   ]
  },
  {
   "cell_type": "code",
   "execution_count": 8,
   "id": "beautiful-wright",
   "metadata": {},
   "outputs": [
    {
     "data": {
      "text/plain": [
       "<matplotlib.image.AxesImage at 0x1307aba30>"
      ]
     },
     "execution_count": 8,
     "metadata": {},
     "output_type": "execute_result"
    },
    {
     "data": {
      "image/png": "[encoded data removed]",
      "text/plain": [
       "<Figure size 432x288 with 1 Axes>"
      ]
     },
     "metadata": {
      "needs_background": "light"
     },
     "output_type": "display_data"
    }
   ],
   "source": [
    "dots=cv2.imread('../DATA/dot_grid.png')\n",
    "plt.imshow(dots)"
   ]
  },
  {
   "cell_type": "code",
   "execution_count": 9,
   "id": "computational-background",
   "metadata": {},
   "outputs": [],
   "source": [
    "found,corners=cv2.findCirclesGrid(dots,(10,10),cv2.CALIB_CB_SYMMETRIC_GRID)"
   ]
  },
  {
   "cell_type": "code",
   "execution_count": 10,
   "id": "demographic-chess",
   "metadata": {},
   "outputs": [
    {
     "data": {
      "text/plain": [
       "True"
      ]
     },
     "execution_count": 10,
     "metadata": {},
     "output_type": "execute_result"
    }
   ],
   "source": [
    "found"
   ]
  },
  {
   "cell_type": "code",
   "execution_count": null,
   "id": "foreign-calculation",
   "metadata": {},
   "outputs": [],
   "source": [
    "cv2.drawChessboardCorners(dot,(7,7),corners,found)"
   ]
  }
 ],
 "metadata": {
  "kernelspec": {
   "display_name": "Python 3",
   "language": "python",
   "name": "python3"
  },
  "language_info": {
   "codemirror_mode": {
    "name": "ipython",
    "version": 3
   },
   "file_extension": ".py",
   "mimetype": "text/x-python",
   "name": "python",
   "nbconvert_exporter": "python",
   "pygments_lexer": "ipython3",
   "version": "3.8.6"
  }
 },
 "nbformat": 4,
 "nbformat_minor": 5
}
